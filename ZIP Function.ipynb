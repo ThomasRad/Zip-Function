{
 "cells": [
  {
   "cell_type": "markdown",
   "metadata": {},
   "source": [
    "# Following YouTube Tutorial"
   ]
  },
  {
   "cell_type": "code",
   "execution_count": 1,
   "metadata": {},
   "outputs": [
    {
     "name": "stdout",
     "output_type": "stream",
     "text": [
      "same\n",
      "Not Same\n",
      "same\n",
      "Not Same\n"
     ]
    }
   ],
   "source": [
    "# We will apply the zip function to a problem. Finding elts that are the same and different.\n",
    "\n",
    "x = [1,2,3,4]\n",
    "y = [1,1,3,7,9]\n",
    "\n",
    "for i in range(min(len(x),len(y))):\n",
    "    if x[i] == y[i]:\n",
    "        print(\"same\")\n",
    "    else:\n",
    "        print(\"Not Same\")"
   ]
  },
  {
   "cell_type": "code",
   "execution_count": 3,
   "metadata": {},
   "outputs": [
    {
     "name": "stdout",
     "output_type": "stream",
     "text": [
      "same\n",
      "not same\n",
      "same\n",
      "not same\n"
     ]
    }
   ],
   "source": [
    "# We will slove the same problem using the ZIP function.\n",
    "\n",
    "for i, j in zip(x,y):\n",
    "    if i == j:\n",
    "        print(\"same\")\n",
    "    else:\n",
    "        print(\"not same\")"
   ]
  }
 ],
 "metadata": {
  "kernelspec": {
   "display_name": "Python 3",
   "language": "python",
   "name": "python3"
  },
  "language_info": {
   "codemirror_mode": {
    "name": "ipython",
    "version": 3
   },
   "file_extension": ".py",
   "mimetype": "text/x-python",
   "name": "python",
   "nbconvert_exporter": "python",
   "pygments_lexer": "ipython3",
   "version": "3.7.6"
  }
 },
 "nbformat": 4,
 "nbformat_minor": 4
}
